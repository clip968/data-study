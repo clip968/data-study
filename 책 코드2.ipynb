{
 "cells": [
  {
   "cell_type": "code",
   "execution_count": 1,
   "metadata": {},
   "outputs": [
    {
     "name": "stdout",
     "output_type": "stream",
     "text": [
      "    age     fare\n",
      "0  22.0   7.2500\n",
      "1  38.0  71.2833\n",
      "2  26.0   7.9250\n",
      "3  35.0  53.1000\n",
      "4  35.0   8.0500\n",
      "\n",
      "\n",
      "<class 'pandas.core.frame.DataFrame'>\n",
      "\n",
      "\n",
      "    age     fare\n",
      "0  32.0  17.2500\n",
      "1  48.0  81.2833\n",
      "2  36.0  17.9250\n",
      "3  45.0  63.1000\n",
      "4  45.0  18.0500\n",
      "\n",
      "\n",
      "<class 'pandas.core.frame.DataFrame'>\n"
     ]
    }
   ],
   "source": [
    "import pandas as pd\n",
    "import seaborn as sns\n",
    "\n",
    "titanic = sns.load_dataset('titanic')\n",
    "df = titanic.loc[:, ['age', 'fare']]\n",
    "print(df.head())\n",
    "print('\\n')\n",
    "print(type(df))\n",
    "print('\\n')\n",
    "\n",
    "addition = df + 10\n",
    "print(addition.head())\n",
    "print('\\n')\n",
    "print(type(addition))\n",
    "\n"
   ]
  },
  {
   "cell_type": "code",
   "execution_count": 2,
   "metadata": {},
   "outputs": [
    {
     "name": "stdout",
     "output_type": "stream",
     "text": [
      "      age   fare\n",
      "886  27.0  13.00\n",
      "887  19.0  30.00\n",
      "888   NaN  23.45\n",
      "889  26.0  30.00\n",
      "890  32.0   7.75\n",
      "\n",
      "\n",
      "<class 'pandas.core.frame.DataFrame'>\n",
      "\n",
      "\n",
      "      age   fare\n",
      "886  37.0  23.00\n",
      "887  29.0  40.00\n",
      "888   NaN  33.45\n",
      "889  36.0  40.00\n",
      "890  42.0  17.75\n",
      "\n",
      "\n",
      "<class 'pandas.core.frame.DataFrame'>\n",
      "\n",
      "\n",
      "      age  fare\n",
      "886  10.0  10.0\n",
      "887  10.0  10.0\n",
      "888   NaN  10.0\n",
      "889  10.0  10.0\n",
      "890  10.0  10.0\n",
      "\n",
      "\n",
      "<class 'pandas.core.frame.DataFrame'>\n"
     ]
    }
   ],
   "source": [
    "import pandas as pd\n",
    "import seaborn as sns\n",
    "\n",
    "titanic = sns.load_dataset('titanic')\n",
    "df = titanic.loc[:, ['age', 'fare']]\n",
    "print(df.tail())\n",
    "print('\\n')\n",
    "print(type(df))\n",
    "print('\\n')\n",
    "\n",
    "addition = df + 10\n",
    "print(addition.tail())\n",
    "print('\\n')\n",
    "print(type(addition))\n",
    "print('\\n')\n",
    "\n",
    "subtraction = addition - df\n",
    "print(subtraction.tail())\n",
    "print('\\n')\n",
    "print(type(subtraction))\n"
   ]
  },
  {
   "cell_type": "code",
   "execution_count": 3,
   "metadata": {},
   "outputs": [
    {
     "name": "stdout",
     "output_type": "stream",
     "text": [
      "   c0  c1  c2  c3\n",
      "0   0   1   4   7\n",
      "1   1   2   5   8\n",
      "2   2   3   6   9\n",
      "\n",
      "\n",
      "    0   1   2   3\n",
      "0  c0  c1  c2  c3\n",
      "1   0   1   4   7\n",
      "2   1   2   5   8\n",
      "3   2   3   6   9\n",
      "\n",
      "\n",
      "   c0  c1  c2  c3\n",
      "0   0   1   4   7\n",
      "1   1   2   5   8\n",
      "2   2   3   6   9\n",
      "\n",
      "\n",
      "    c1  c2  c3\n",
      "c0            \n",
      "0    1   4   7\n",
      "1    2   5   8\n",
      "2    3   6   9\n"
     ]
    }
   ],
   "source": [
    "file_path = './read_csv_sample.csv'\n",
    "\n",
    "df1 = pd.read_csv(file_path)\n",
    "print(df1)\n",
    "print('\\n')\n",
    "\n",
    "df2 = pd.read_csv(file_path, header=None)\n",
    "print(df2)\n",
    "print('\\n')\n",
    "\n",
    "df3 = pd.read_csv(file_path, index_col=None)\n",
    "print(df3)\n",
    "print('\\n') \n",
    "\n",
    "df4 = pd.read_csv(file_path, index_col='c0')\n",
    "print(df4)"
   ]
  },
  {
   "cell_type": "code",
   "execution_count": 5,
   "metadata": {},
   "outputs": [
    {
     "name": "stdout",
     "output_type": "stream",
     "text": [
      "  전력량 (억㎾h) 발전 전력별  1990  1991  1992  1993  1994  1995  1996  1997  ...  2007  \\\n",
      "0        남한     합계  1077  1186  1310  1444  1650  1847  2055  2244  ...  4031   \n",
      "1       NaN     수력    64    51    49    60    41    55    52    54  ...    50   \n",
      "2       NaN     화력   484   573   696   803  1022  1122  1264  1420  ...  2551   \n",
      "3       NaN    원자력   529   563   565   581   587   670   739   771  ...  1429   \n",
      "4       NaN    신재생     -     -     -     -     -     -     -     -  ...     -   \n",
      "5        북한     합계   277   263   247   221   231   230   213   193  ...   236   \n",
      "6       NaN     수력   156   150   142   133   138   142   125   107  ...   133   \n",
      "7       NaN     화력   121   113   105    88    93    88    88    86  ...   103   \n",
      "8       NaN    원자력     -     -     -     -     -     -     -     -  ...     -   \n",
      "\n",
      "   2008  2009  2010  2011  2012  2013  2014  2015  2016  \n",
      "0  4224  4336  4747  4969  5096  5171  5220  5281  5404  \n",
      "1    56    56    65    78    77    84    78    58    66  \n",
      "2  2658  2802  3196  3343  3430  3581  3427  3402  3523  \n",
      "3  1510  1478  1486  1547  1503  1388  1564  1648  1620  \n",
      "4     -     -     -     -    86   118   151   173   195  \n",
      "5   255   235   237   211   215   221   216   190   239  \n",
      "6   141   125   134   132   135   139   130   100   128  \n",
      "7   114   110   103    79    80    82    86    90   111  \n",
      "8     -     -     -     -     -     -     -     -     -  \n",
      "\n",
      "[9 rows x 29 columns]\n",
      "\n",
      "\n",
      "          0       1     2     3     4     5     6     7     8     9   ...  \\\n",
      "0  전력량 (억㎾h)  발전 전력별  1990  1991  1992  1993  1994  1995  1996  1997  ...   \n",
      "1         남한      합계  1077  1186  1310  1444  1650  1847  2055  2244  ...   \n",
      "2        NaN      수력    64    51    49    60    41    55    52    54  ...   \n",
      "3        NaN      화력   484   573   696   803  1022  1122  1264  1420  ...   \n",
      "4        NaN     원자력   529   563   565   581   587   670   739   771  ...   \n",
      "5        NaN     신재생     -     -     -     -     -     -     -     -  ...   \n",
      "6         북한      합계   277   263   247   221   231   230   213   193  ...   \n",
      "7        NaN      수력   156   150   142   133   138   142   125   107  ...   \n",
      "8        NaN      화력   121   113   105    88    93    88    88    86  ...   \n",
      "9        NaN     원자력     -     -     -     -     -     -     -     -  ...   \n",
      "\n",
      "     19    20    21    22    23    24    25    26    27    28  \n",
      "0  2007  2008  2009  2010  2011  2012  2013  2014  2015  2016  \n",
      "1  4031  4224  4336  4747  4969  5096  5171  5220  5281  5404  \n",
      "2    50    56    56    65    78    77    84    78    58    66  \n",
      "3  2551  2658  2802  3196  3343  3430  3581  3427  3402  3523  \n",
      "4  1429  1510  1478  1486  1547  1503  1388  1564  1648  1620  \n",
      "5     -     -     -     -     -    86   118   151   173   195  \n",
      "6   236   255   235   237   211   215   221   216   190   239  \n",
      "7   133   141   125   134   132   135   139   130   100   128  \n",
      "8   103   114   110   103    79    80    82    86    90   111  \n",
      "9     -     -     -     -     -     -     -     -     -     -  \n",
      "\n",
      "[10 rows x 29 columns]\n"
     ]
    }
   ],
   "source": [
    "df1 = pd.read_excel('./남북한발전전력량.xlsx', engine= 'openpyxl')\n",
    "df2 = pd.read_excel('./남북한발전전력량.xlsx', engine= 'openpyxl', header=None)\n",
    "\n",
    "print(df1)\n",
    "print('\\n')\n",
    "print(df2)"
   ]
  },
  {
   "cell_type": "code",
   "execution_count": 6,
   "metadata": {},
   "outputs": [
    {
     "name": "stdout",
     "output_type": "stream",
     "text": [
      "           name  year        developer opensource\n",
      "pandas           2008    Wes Mckinneye       True\n",
      "NumPy            2006  Travis Oliphant       True\n",
      "matplotlib       2003   John D. Hunter       True\n",
      "\n",
      "\n",
      "Index(['pandas', 'NumPy', 'matplotlib'], dtype='object')\n"
     ]
    }
   ],
   "source": [
    "df = pd.read_json('./read_json_sample.json')\n",
    "print(df)\n",
    "print('\\n')\n",
    "print(df.index)"
   ]
  },
  {
   "cell_type": "code",
   "execution_count": 8,
   "metadata": {},
   "outputs": [
    {
     "name": "stdout",
     "output_type": "stream",
     "text": [
      "2\n",
      "\n",
      "\n",
      "tables[0]\n",
      "   Unnamed: 0  c0  c1  c2  c3\n",
      "0           0   0   1   4   7\n",
      "1           1   1   2   5   8\n",
      "2           2   2   3   6   9\n",
      "\n",
      "\n",
      "tables[1]\n",
      "         name  year        developer  opensource\n",
      "0       NumPy  2006  Travis Oliphant        True\n",
      "1  matplotlib  2003   John D. Hunter        True\n",
      "2      pandas  2008    Wes Mckinneye        True\n",
      "\n",
      "\n",
      "            year        developer  opensource\n",
      "name                                         \n",
      "NumPy       2006  Travis Oliphant        True\n",
      "matplotlib  2003   John D. Hunter        True\n",
      "pandas      2008    Wes Mckinneye        True\n"
     ]
    }
   ],
   "source": [
    "url = './sample.html'\n",
    "\n",
    "tables = pd.read_html(url)\n",
    "\n",
    "print(len(tables))\n",
    "print('\\n')\n",
    "\n",
    "for i in range(len(tables)):\n",
    "    print(\"tables[%s]\" % i)\n",
    "    print(tables[i])\n",
    "    print('\\n') \n",
    "    \n",
    "df = tables[1]  \n",
    "\n",
    "df.set_index(['name'], inplace=True)\n",
    "print(df)\n"
   ]
  },
  {
   "cell_type": "code",
   "execution_count": 11,
   "metadata": {},
   "outputs": [
    {
     "name": "stdout",
     "output_type": "stream",
     "text": [
      "{}\n",
      "\n",
      "\n",
      "Empty DataFrame\n",
      "Columns: []\n",
      "Index: []\n"
     ]
    }
   ],
   "source": [
    "from bs4 import BeautifulSoup\n",
    "import requests\n",
    "import re\n",
    "\n",
    "url = \"https://en.wikipedia.org/wiki/List_of_American_exchange-traded_funds\"\n",
    "resp = requests.get(url)\n",
    "soup = BeautifulSoup(resp.text, 'lxml')\n",
    "rows = soup.select('div > ul > li')\n",
    "\n",
    "etfs = {}\n",
    "for row in rows:\n",
    "    try :\n",
    "        etf_name = re.findall('^(.*) \\(NYSE', row.text)\n",
    "        etf_market = re.findall('\\((.*)\\|', row.text)\n",
    "        etf_ticker = re.findall('NYSE Arca\\|(.*)\\)', row.text)\n",
    "        \n",
    "        if (len(etf_ticker) > 0) & (len(etf_market) > 0) & (len(etf_name) > 0):\n",
    "            etfs[etf_ticker[0]] = [etf_market[0], etf_name[0]]\n",
    "    \n",
    "    except AttributeError as err:\n",
    "        pass\n",
    "\n",
    "print(etfs)\n",
    "print('\\n')\n",
    "df = pd.DataFrame(etfs)\n",
    "print(df)"
   ]
  },
  {
   "cell_type": "code",
   "execution_count": 14,
   "metadata": {},
   "outputs": [
    {
     "name": "stdout",
     "output_type": "stream",
     "text": [
      "      algol basic  c++\n",
      "name                  \n",
      "Jerry     A     C  B++\n",
      "Riah     A+     B    C\n",
      "Faul      B    B+   C+\n"
     ]
    }
   ],
   "source": [
    "data = {'name' : ['Jerry', 'Riah', 'Faul'], \n",
    "        'algol' : [\"A\", \"A+\", \"B\"],\n",
    "        'basic' : [\"C\", \"B\", \"B+\"],\n",
    "        'c++' : [\"B++\", \"C\", \"C+\"]}\n",
    "\n",
    "df = pd.DataFrame(data)\n",
    "df.set_index('name', inplace=True)\n",
    "print(df)\n",
    "\n",
    "df.to_csv(\"./df_sample.csv\")\n",
    "df.to_json(\"./df_sample.json\")\n",
    "df.to_excel(\"./df_sample.xlsx\")"
   ]
  },
  {
   "cell_type": "code",
   "execution_count": 1,
   "metadata": {},
   "outputs": [
    {
     "name": "stdout",
     "output_type": "stream",
     "text": [
      "      algol basic  c++\n",
      "name                  \n",
      "Jerry     A     C  B++\n",
      "Riah     A+     B    C\n",
      "Faul      B    B+   C+\n",
      "\n",
      "\n",
      "    c1  c2  c3  c4\n",
      "c0                \n",
      "1    4   7  10  13\n",
      "2    5   8  11  14\n",
      "3    6   9  12  15\n"
     ]
    }
   ],
   "source": [
    "import pandas as pd\n",
    "\n",
    "data1 = {'name' : ['Jerry', 'Riah', 'Faul'], \n",
    "        'algol' : [\"A\", \"A+\", \"B\"],\n",
    "        'basic' : [\"C\", \"B\", \"B+\"],\n",
    "        'c++' : [\"B++\", \"C\", \"C+\"]}\n",
    "\n",
    "data2 = {'c0':[1,2,3],\n",
    "         'c1':[4,5,6],\n",
    "         'c2':[7,8,9],\n",
    "         'c3':[10,11,12],\n",
    "         'c4':[13,14,15]}\n",
    "\n",
    "df1 = pd.DataFrame(data1)\n",
    "df1.set_index('name', inplace=True)\n",
    "print(df1)\n",
    "print('\\n')\n",
    "\n",
    "df2 = pd.DataFrame(data2)\n",
    "df2.set_index('c0', inplace=True)\n",
    "print(df2)\n",
    "\n",
    "writer = pd.ExcelWriter(\"./df_excelwriter.xlsx\")\n",
    "df1.to_excel(writer, sheet_name=\"sheet1\")\n",
    "df2.to_excel(writer, sheet_name=\"sheet2\")\n",
    "writer.close()"
   ]
  }
 ],
 "metadata": {
  "kernelspec": {
   "display_name": "Python 3",
   "language": "python",
   "name": "python3"
  },
  "language_info": {
   "codemirror_mode": {
    "name": "ipython",
    "version": 3
   },
   "file_extension": ".py",
   "mimetype": "text/x-python",
   "name": "python",
   "nbconvert_exporter": "python",
   "pygments_lexer": "ipython3",
   "version": "3.10.8"
  }
 },
 "nbformat": 4,
 "nbformat_minor": 2
}
